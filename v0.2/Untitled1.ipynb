{
 "cells": [
  {
   "cell_type": "code",
   "execution_count": 1,
   "id": "bfc12d3c-e2db-4069-aa44-265e63f3c96a",
   "metadata": {},
   "outputs": [],
   "source": [
    "from datastorage import *\n",
    "\n",
    "def test_open_datastorage(filename='dst'):\n",
    "\n",
    "    dstorage = DataStorage(filename=filename)\n",
    "\n",
    "    # set profile \n",
    "    dstorage.setprofile(profile={'pid':0xBABA})\n",
    "    dstorage.setprofile(profile={'proto':0x0000}) \n",
    "    dstorage.lockprofile()\n",
    " \n",
    "    print(vars(dstorage))\n",
    "    print(vars(dstorage.d['datastorage-info']))\n",
    "    print(vars(dstorage.d['datablock-info']))\n",
    "\n",
    "    return dstorage\n",
    "    \n",
    "\n",
    "def test_upload_1(dstorage):\n",
    "\n",
    "    # instanciat raw data\n",
    "    rd = RawData(filename=\"data\\\\icanbus\\\\00-01.txt\")\n",
    "    # upload raw data to the storage \n",
    "    dstorage.upload(rawdata=rd, size=10)\n",
    "\n",
    "    print(vars(dstorage))\n",
    "    print(vars(dstorage.d['datastorage-info']))\n",
    "    print(vars(dstorage.d['datablock-info']))\n",
    "\n",
    "   # instanciat raw data\n",
    "    rd = RawData(filename=\"data\\\\icanbus\\\\00-02.txt\")\n",
    "    # upload raw data to the storage \n",
    "    dstorage.upload(rawdata=rd, size=10)\n",
    "\n",
    "    print(vars(dstorage))\n",
    "    print(vars(dstorage.d['datastorage-info']))\n",
    "    print(vars(dstorage.d['datablock-info']))\n",
    "\n",
    "    # instanciat raw data\n",
    "    rd = RawData(filename=\"data\\\\icanbus\\\\00-03.txt\")\n",
    "    # upload raw data to the storage \n",
    "    dstorage.upload(rawdata=rd, size=10)\n",
    "\n",
    "    print(vars(dstorage))\n",
    "    print(vars(dstorage.d['datastorage-info']))\n",
    "    print(vars(dstorage.d['datablock-info']))\n",
    "\n",
    "    print( \"cb => {}\".format(dstorage.d['cb']))\n",
    "    \n",
    "    dstorage.save()\n",
    "    \n",
    "\n",
    "def test_upload_2(dstorage):\n",
    "\n",
    "    f_list = [\"data\\\\icanbus\\\\00-01.txt\", \"data\\\\icanbus\\\\00-02.txt\", \"data\\\\icanbus\\\\00-03.txt\", \"data\\\\icanbus\\\\00-04.txt\", \"data\\\\icanbus\\\\00-05.txt\"]\n",
    "    \n",
    "    for fn in f_list:\n",
    "     \n",
    "        # instanciat raw data\n",
    "        rd = RawData(filename=fn)\n",
    "        \n",
    "        # upload raw data to the storage \n",
    "        dstorage.upload(rawdata=rd, size=30)\n",
    "        dstorage.save()\n",
    "        \n",
    "    print(vars(dstorage))\n",
    "    print(vars(dstorage.d['datastorage-info']))\n",
    "    print(vars(dstorage.d['datablock-info']))\n",
    "\n",
    "    #print( \"cb => {}\".format(dstorage.d['cb']))\n",
    "    \n",
    "    "
   ]
  },
  {
   "cell_type": "code",
   "execution_count": 2,
   "id": "d9598f6f-c2fa-42c2-99e5-6e9bfebc9d3b",
   "metadata": {},
   "outputs": [
    {
     "name": "stdout",
     "output_type": "stream",
     "text": [
      "{'filename': 'dst', 'd': {'datastorage-info': <datastorage.DataStorage_Info object at 0x0000021145496220>, 'datablock-info': <datastorage.DataBlock_Info object at 0x0000021145496490>, 'data': [[], []], 'cb': None}}\n",
      "{'filename': 'dst.i', 'd': {'ver': '0.1', 'pid': 47802, 'noc': 2, 'lof': 12, 'locked': True, 'blkf': 'dst.bi', 'dataf': 'dst.dat', 'proto': 0}, 'tosave': True}\n",
      "{'filename': 'dst.bi', 'd': {'nob': 0, 'blt': []}}\n",
      "{'filename': 'dst', 'd': {'datastorage-info': <datastorage.DataStorage_Info object at 0x0000021145496220>, 'datablock-info': <datastorage.DataBlock_Info object at 0x0000021145496490>, 'data': [[bytearray(b'\\x03\\xf2\\x05\\x02\\xc2\\x0e\\xc2\\x0e\\xc3\\x0e\\xc5\\x0e'), bytearray(b'\\x11\\xf3\\x00\\x04\\x9e\\x02\\x9e\\x02\\x9e\\x02\\x9e\\x02'), bytearray(b'\\x14\\xf2\\x06\\x00\\xc3\\x0e\\xc4\\x0e\\xc4\\x0e\\xc7\\x0e'), bytearray(b'\\x03\\xf0\\x04\\xa0\\xc8\\x0eY\\xb0\\x0e/\\xba\\x0e'), bytearray(b'\\x07\\xf2\\x00\\x05\\xb1\\x0e\\xb3\\x0e\\xb5\\x0e\\xb6\\x0e'), bytearray(b'\\x03\\xf1\\x00\\x00\\x00\\x00\\x06\\x00\\x00\\x00\\x00\\x00'), bytearray(b'\\x02\\xf2\\x00\\x03\\xb9\\x0e\\xbd\\x0e\\xbf\\x0e\\xb9\\x0e'), bytearray(b'\\x05\\xf2\\x06\\x01\\xc8\\x0e\\xc6\\x0e\\xc4\\x0e\\xc7\\x0e'), bytearray(b'\\x10\\xf1\\x00\\x01\\x00\\x00\\x06\\x00\\x00\\x00\\x00\\x00'), bytearray(b'\\x02\\xf2\\x05\\x04\\xba\\x0e\\xbd\\x0e\\xbb\\x0e\\xbf\\x0e'), bytearray(b'\\x04\\xf2\\x06\\x03\\xbd\\x0e\\xbe\\x0e\\xbe\\x0e\\xc0\\x0e'), bytearray(b'\\x03\\xfa\\x00\\x05\\xf3O\\x9c;\\x04\\x05\\x83\\n'), bytearray(b'\\x03\\xfa\\x00\\x00\\x14j\\x9c;\\x04\\x00\\x83\\n'), bytearray(b'\\x02\\xf2\\x05\\x00\\xbc\\x0e\\xbc\\x0e\\xbd\\x0e\\xbc\\x0e'), bytearray(b'\\x03\\xf1\\x00\\x03\\x00\\x00\\x06\\x00\\x00\\x00\\x00\\x00'), bytearray(b'\\x03\\xf2\\x04\\x02\\xb4\\x0e\\xb8\\x0e\\xb8\\x0e\\xb4\\x0e'), bytearray(b'\\x08\\xf0\\x0b\\xa0\\x81\\x03\\xb6\\x0e\\x00\\x00\\x00\\x00'), bytearray(b'\\t\\xfa\\x00\\x01\\xfbi\\x9c;\\x04\\x01\\x83\\n'), bytearray(b'\\x03\\xf2\\x05\\x01\\xbf\\x0e\\xbf\\x0e\\xc0\\x0e\\xbf\\x0e'), bytearray(b'\\x03\\xfa\\x00\\x04\\xc9O\\x9c;\\x04\\x04\\x83\\n'), bytearray(b'\\x13\\xf0\\x00\\xa0\\x04\\x00\\x00\\x00\\x03\\x04\\x83\\x1c'), bytearray(b'\\x14\\xf1\\x02\\x05\\xd5\\x08\\xf4|\\x00\\x00C\\x00'), bytearray(b'\\x02\\xf2\\x04\\x00\\xb4\\x0e\\xb6\\x0e\\xb6\\x0e\\xb6\\x0e'), bytearray(b'\\x01\\xfa\\x00\\x03Aj\\x9c;\\x04\\x03\\x83\\n'), bytearray(b'\\x02\\xfa\\x00\\x02Fj\\x9c;\\x04\\x02\\x83\\n'), bytearray(b'\\x03\\xf2\\x03\\x02\\xb5\\x0e\\xb8\\x0e\\xb6\\x0e\\xb7\\x0e'), bytearray(b'\\x13\\xf2\\x04\\x01\\xb3\\x0e\\xb3\\x0e\\xb5\\x0e\\xb5\\x0e'), bytearray(b'\\x03\\xf1\\x02\\x04\\xd4\\x08\\xf4|\\x00\\x00C\\x00'), bytearray(b'\\x0e\\xf0\\x03\\xa0\\xf94\\xf4|\\xfc4S\\x02'), bytearray(b'\\t\\xf2\\x06\\x05\\xc1\\x0e\\xbd\\x0e\\xc2\\x0e\\xc1\\x0e'), bytearray(b'\\x02\\xf3\\x00\\x00\\x9e\\x02\\x9e\\x02\\x9e\\x02\\x9e\\x02'), bytearray(b'\\x02\\xf1\\x00\\x02\\x00\\x00\\x06\\x00\\x00\\x00\\x00\\x00'), bytearray(b'\\x03\\xf0\\x06\\xa0\\xe1\\x00\\x01\\xe1\\x00\\x01\\xe1\\x00'), bytearray(b'\\x0b\\xf1\\x02\\x01\\xd5\\x08\\xf4|\\x00\\x00C\\x00'), bytearray(b'\\x03\\xf2\\x01\\x04\\xb4\\x0e\\xb4\\x0e\\xb4\\x0e\\xb6\\x0e'), bytearray(b'\\x08\\xf2\\x04\\x03\\xb4\\x0e\\xb3\\x0e\\xb6\\x0e\\xb1\\x0e'), bytearray(b'\\t\\xf1\\x00\\x05\\x00\\x00\\x06\\x00\\x00\\x00\\x00\\x00'), bytearray(b'\\x03\\xf2\\x03\\x00\\xb5\\x0e\\xb6\\x0e\\xb6\\x0e\\xb9\\x0e'), bytearray(b'\\x01\\xf3\\x00\\x03\\xa8\\x02\\x9e\\x02\\xa8\\x02\\xa8\\x02'), bytearray(b'\\x02\\xf2\\x02\\x02\\xb8\\x0e\\xb4\\x0e\\xb5\\x0e\\xb9\\x0e'), bytearray(b'\\x03\\xf0\\x07\\xa0\\x15\\x00\\n\\x00\\x00\\x00\\xf94'), bytearray(b'\\t\\xf2\\x03\\x05\\xb7\\x0e\\xb6\\x0e\\xb4\\x0e\\xb4\\x0e'), bytearray(b'\\x03\\xf1\\x00\\x00\\x00\\x00\\x06\\x00\\x00\\x00\\x00\\x00'), bytearray(b'\\x02\\xf2\\x03\\x03\\xb5\\x0e\\xb2\\x0e\\xb6\\x0e\\xb6\\x0e'), bytearray(b'\\x00\\xf1\\x00\\x01\\x00\\x00\\x06\\x00\\x00\\x00\\x00\\x00'), bytearray(b'\\x02\\xf2\\x00\\x04\\xb3\\x0e\\xb3\\x0e\\xb4\\x0e\\xb7\\x0e'), bytearray(b'\\x07\\xf0\\x02\\xa0\\x02\\x01\\x90\\x01\\x00\\x00\\x0f\\x00'), bytearray(b'\\x1f\\xf4\\x02\\x05\\xe1\\x00\\xe1\\x00\\xe1\\x00\\xe1\\x00'), bytearray(b'\\x03\\xf2\\x02\\x00\\xbb\\x0e\\xb9\\x0e\\xb4\\x0e\\xba\\x0e'), bytearray(b'\\x05\\xf2\\x01\\x02\\xb3\\x0e\\xb9\\x0e\\xb7\\x0e\\xb5\\x0e'), bytearray(b'\\x15\\xf2\\x02\\x01\\xba\\x0e\\xb7\\x0e\\xb8\\x0e\\xbb\\x0e')], [bytearray(b'\\x07\\xfb*\\xa0\\xa0\\xd0\\x07\\x00\\x00\\x00\\x00\\x00'), bytearray(b'\\x08\\xf2\\x00\\x03\\xbd\\x0e\\xbd\\x0e\\xc0\\x0e\\xbd\\x0e'), bytearray(b'\\x03\\xf1\\x02\\x00\\xd8\\x08\\xef}\\x00\\x00C\\x00'), bytearray(b'\\x06\\xf2\\x03\\x05\\xb1\\x0e\\xb3\\x0e\\xb2\\x0e\\xb2\\x0e'), bytearray(b'\\t\\xf2\\x03\\x01\\xbb\\x0e\\xbb\\x0e\\xbf\\x0e\\xbf\\x0e'), bytearray(b'\\x06\\xf1\\x02\\x04\\xda\\x08\\xef}\\x00\\x00C\\x00'), bytearray(b'\\x06\\xf1\\x00\\x03\\x00\\x00\\x06\\x00\\x00\\x00\\x00\\x00'), bytearray(b'\\x05\\xf0\\x00\\xa0\\x05\\x00\\x00\\x00\\x03\\x04\\x83\\x1c'), bytearray(b'\\x05\\xf2\\x00\\x00\\xbb\\x0e\\xbd\\x0e\\xbc\\x0e\\xbd\\x0e'), bytearray(b'\\x07\\xf3\\x00\\x05\\x94\\x02\\x9e\\x02\\x9e\\x02\\x9e\\x02'), bytearray(b'\\x11\\xf1\\x00\\x01\\x00\\x00\\x06\\x00\\x00\\x00\\x00\\x00'), bytearray(b'\\n\\xf2\\x07\\x03\\xbd\\x0e\\xbb\\x0e\\x00\\x00\\x00\\x00'), bytearray(b'\\x00\\xf2\\x05\\x02\\xbb\\x0e\\xbb\\x0e\\xbd\\x0e\\xba\\x0e'), bytearray(b'\\x04\\xf2\\x06\\x00\\xba\\x0e\\xbb\\x0e\\xba\\x0e\\xba\\x0e'), bytearray(b'\\x02\\xf2\\x04\\x04\\xb6\\x0e\\xb5\\x0e\\xb5\\x0e\\xb3\\x0e'), bytearray(b'\\x04\\xf1\\x00\\x00\\x00\\x00\\x06\\x00\\x00\\x00\\x00\\x00'), bytearray(b'\\x07\\xfa\\x00\\x05\\xd2P\\x9c;\\x04\\x05\\x83\\n'), bytearray(b'\\x03\\xf2\\x02\\x05\\xb3\\x0e\\xb3\\x0e\\xb4\\x0e\\xb4\\x0e'), bytearray(b'\\x0c\\xf0\\x06\\xa0\\xe1\\x00\\x01\\xe1\\x00\\x01\\xe1\\x00'), bytearray(b'\\x11\\xf2\\x02\\x01\\xb4\\x0e\\xaf\\x0e\\xb6\\x0e\\xb6\\x0e'), bytearray(b'\\x06\\xf2\\x05\\x00\\xbc\\x0e\\xbb\\x0e\\xbd\\x0e\\xbe\\x0e'), bytearray(b'\\x0b\\xf1\\x00\\x05\\x00\\x00\\x06\\x00\\x00\\x00\\x00\\x00'), bytearray(b'\\x0c\\xf2\\x03\\x04\\xb4\\x0e\\xb6\\x0e\\xb5\\x0e\\xb8\\x0e'), bytearray(b'\\x01\\xf2\\x06\\x03\\xc1\\x0e\\xbf\\x0e\\xbe\\x0e\\xc0\\x0e'), bytearray(b'\\x02\\xf0\\x11\\xa0\\x80\\xbb\\xe0.\\x00\\x00\\x00\\x00'), bytearray(b'\\t\\xf2\\x04\\x02\\xb7\\x0e\\xb4\\x0e\\xb4\\x0e\\xb5\\x0e'), bytearray(b'\\x07\\xf2\\x01\\x05\\xb6\\x0e\\xb4\\x0e\\xb8\\x0e\\xb5\\x0e'), bytearray(b'\\x10\\xfa\\x00\\x01Tj\\x9c;\\x04\\x01\\x83\\n'), bytearray(b'\\r\\xfa\\x00\\x032j\\x9c;\\x04\\x03\\x83\\n'), bytearray(b'\\x0c\\xf1\\x02\\x03\\xd5\\x08\\xf4|\\x00\\x00C\\x00'), bytearray(b'\\x03\\xf3\\x00\\x02\\x9e\\x02\\x9e\\x02\\x9e\\x02\\x9e\\x02'), bytearray(b'\\t\\xf2\\x07\\x01\\xbe\\x0e\\xba\\x0e\\x00\\x00\\x00\\x00'), bytearray(b'\\t\\xf1\\x04\\x05\\x9e\\x02\\x01\\x9e\\x02\\x01\\x9e\\x02'), bytearray(b'\\x08\\xf0\\x04\\xa0\\xc5\\x0e\\x8e\\xb0\\x0eJ\\xb9\\x0e'), bytearray(b'\\x10\\xf2\\x04\\x00\\xb6\\x0e\\xb5\\x0e\\xb3\\x0e\\xb4\\x0e'), bytearray(b'\\x05\\xf3\\x00\\x01\\x9e\\x02\\x9e\\x02\\x9e\\x02\\x9e\\x02'), bytearray(b'\\x0b\\xf2\\x05\\x03\\xc1\\x0e\\xbe\\x0e\\xc2\\x0e\\xc0\\x0e'), bytearray(b'\\x01\\xfa\\x00\\x04bM\\x9c;\\x04\\x04\\x83\\n'), bytearray(b'\\x01\\xf2\\x03\\x02\\xb4\\x0e\\xb0\\x0e\\xb1\\x0e\\xb6\\x0e'), bytearray(b'\\x16\\xf2\\x06\\x01\\xbe\\x0e\\xbf\\x0e\\xbd\\x0e\\xc1\\x0e'), bytearray(b'\\n\\xf1\\x00\\x03\\x00\\x00\\x06\\x00\\x00\\x00\\x00\\x00'), bytearray(b'\\x03\\xf0\\x0b\\xa0\\x81\\x03\\xba\\x0e\\x00\\x00\\x00\\x00'), bytearray(b'\\x03\\xf1\\x02\\x04\\xd7\\x08\\xf4|\\x00\\x00C\\x00'), bytearray(b'\\x15\\xf2\\x06\\x05\\xc3\\x0e\\xc3\\x0e\\xc6\\x0e\\xc4\\x0e'), bytearray(b'\\x02\\xf2\\x03\\x00\\xb5\\x0e\\xb5\\x0e\\xb5\\x0e\\xb4\\x0e'), bytearray(b'\\x10\\xf3\\x00\\x05\\x9e\\x02\\x9e\\x02\\x9e\\x02\\x9e\\x02'), bytearray(b'\\n\\xf2\\x04\\x03\\xb3\\x0e\\xb8\\x0e\\xb5\\x0e\\xb4\\x0e'), bytearray(b'\\x00\\xf0\\x10\\xa0\\xb7\\x0cP\\x13\\x00\\x00\\x00\\x00'), bytearray(b'\\x03\\xf2\\x01\\x04\\xb8\\x0e\\xb8\\x0e\\xb9\\x0e\\xb8\\x0e')]], 'cb': {'sp': 0, 'len': 1200, 'info': 0, 'chns': [{'sp': 0, 'len': 612, 'nof': 51, 'du': 341, 'ts': 1684315175.0}, {'sp': 612, 'len': 588, 'nof': 49, 'du': 380, 'ts': 1684315175.0}]}}}\n",
      "{'filename': 'dst.i', 'd': {'ver': '0.1', 'pid': 47802, 'noc': 2, 'lof': 12, 'locked': True, 'blkf': 'dst.bi', 'dataf': 'dst.dat', 'proto': 0}, 'tosave': True}\n",
      "{'filename': 'dst.bi', 'd': {'nob': 0, 'blt': []}}\n",
      "cb => {'sp': 0, 'len': 1200, 'info': 0, 'chns': [{'sp': 0, 'len': 612, 'nof': 51, 'du': 341, 'ts': 1684315175.0}, {'sp': 612, 'len': 588, 'nof': 49, 'du': 380, 'ts': 1684315175.0}]}\n"
     ]
    }
   ],
   "source": [
    "dstorage=test_open_datastorage()\n",
    "\n",
    "test_upload_2(dstorage)\n",
    "\n"
   ]
  },
  {
   "cell_type": "code",
   "execution_count": 3,
   "id": "ccb2a80d-aca6-452c-a949-b1d33df4631e",
   "metadata": {},
   "outputs": [
    {
     "data": {
      "text/plain": [
       "{'filename': 'dst.bi',\n",
       " 'd': {'nob': 1,\n",
       "  'blt': [{'sp': 0,\n",
       "    'len': 1200,\n",
       "    'info': 0,\n",
       "    'chns': [{'sp': 0, 'len': 612, 'nof': 51, 'du': 341, 'ts': 1684315175.0},\n",
       "     {'sp': 612, 'len': 588, 'nof': 49, 'du': 380, 'ts': 1684315175.0}]}]}}"
      ]
     },
     "execution_count": 3,
     "metadata": {},
     "output_type": "execute_result"
    }
   ],
   "source": [
    "vars(dstorage.d['datablock-info'])"
   ]
  },
  {
   "cell_type": "code",
   "execution_count": null,
   "id": "b8de17c8-bf1e-4e64-805b-1f9ac06a7769",
   "metadata": {},
   "outputs": [],
   "source": []
  }
 ],
 "metadata": {
  "kernelspec": {
   "display_name": "Python 3 (ipykernel)",
   "language": "python",
   "name": "python3"
  },
  "language_info": {
   "codemirror_mode": {
    "name": "ipython",
    "version": 3
   },
   "file_extension": ".py",
   "mimetype": "text/x-python",
   "name": "python",
   "nbconvert_exporter": "python",
   "pygments_lexer": "ipython3",
   "version": "3.9.13"
  }
 },
 "nbformat": 4,
 "nbformat_minor": 5
}
