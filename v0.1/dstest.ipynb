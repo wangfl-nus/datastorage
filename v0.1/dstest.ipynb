{
 "cells": [
  {
   "cell_type": "code",
   "execution_count": null,
   "id": "a6573549-26f2-4b66-951c-52f65f56e236",
   "metadata": {},
   "outputs": [],
   "source": [
    "from datastorage import *\n",
    "\n",
    "dstorage = DataStorage(filename=\"dst.bin\") \n",
    "dstorage.setprofile(profile={'pid':0xBABA})\n",
    "dstorage.setprofile(profile={'proto':0x0000}) \n",
    "dstorage.lockprofile()\n",
    "dstorage.settimestamp()\n",
    "\n",
    "print(vars(dstorage)) \n",
    "print(vars(dstorage.dsheader))\n",
    "\n",
    "# instanciat raw data\n",
    "rd = RawData(filename=\"data\\\\icanbus\\\\00-01.txt\")\n",
    "\n",
    "# upload raw data to the storage \n",
    "dstorage.upload(rawdata=rd, size=10)\n",
    "\n",
    "print(vars(dstorage))\n",
    "print(vars(dstorage.dsheader))\n",
    "\n",
    "print(vars(dstorage.dbh))\n",
    "print(vars(dstorage.dbh.chns[0]))\n",
    "print(vars(dstorage.dbh.chns[1]))\n",
    "\n",
    "dstorage.flush()"
   ]
  },
  {
   "cell_type": "code",
   "execution_count": 1,
   "id": "6b2eff15-7ee7-4acd-9689-ce492bff8985",
   "metadata": {},
   "outputs": [
    {
     "name": "stdout",
     "output_type": "stream",
     "text": [
      "{'isAvailable': True, 'profile': {'ver': 1, 'loh': 128, 'pid': 0, 'noc': 2, 'lof': 12, 'lodh': 64}, 'profilelocked': False, 'dsheader': <datastorage.DSHeader object at 0x0000020C495BA970>, 'dbh': <datastorage.DBHeader object at 0x0000020C4961A190>, 'db': [[], []], 'cdap': 312, 'mode': 1, 'filename': 'dst.bin'}\n",
      "{'loh': 128, 'ver': 1, 'pid': 47802, 'noc': 2, 'proto': 0, 'nob': 1, 'lof': 12, 'ldh': 64, 'dap': 128, 'cdap': 312}\n",
      "{'ldh': 64, 'noc': 2, 'cp': 128, 'pp': 0, 'np': 0, 'info': 0, 'chns': [<datastorage.CHInfo object at 0x0000020C4961A070>, <datastorage.CHInfo object at 0x0000020C4961A220>]}\n",
      "{'sp': 192, 'nof': 5, 'du': 50, 'ts': 1684224256.0}\n",
      "{'sp': 252, 'nof': 5, 'du': 33, 'ts': 1684224256.0}\n"
     ]
    }
   ],
   "source": [
    "from datastorage import *\n",
    "\n",
    "dstorage = DataStorage(filename=\"dst.bin\") \n",
    "print(vars(dstorage))\n",
    "\n",
    "print(vars(dstorage.dsheader))\n",
    "print(vars(dstorage.dbh))\n",
    "print(vars(dstorage.dbh.chns[0]))\n",
    "print(vars(dstorage.dbh.chns[1]))"
   ]
  },
  {
   "cell_type": "code",
   "execution_count": 2,
   "id": "0cbfbad9-8349-4c6e-83cc-c1ba7ee26286",
   "metadata": {},
   "outputs": [
    {
     "name": "stdout",
     "output_type": "stream",
     "text": [
      "{'isAvailable': True, 'profile': {'ver': 1, 'loh': 128, 'pid': 0, 'noc': 2, 'lof': 12, 'lodh': 64}, 'profilelocked': False, 'dsheader': <datastorage.DSHeader object at 0x0000020C495BA970>, 'dbh': <datastorage.DBHeader object at 0x0000020C4961A190>, 'db': [[bytearray(b'\\x04\\xf2\\x06\\x03\\xbd\\x0e\\xbe\\x0e\\xbe\\x0e\\xc0\\x0e'), bytearray(b'\\x03\\xfa\\x00\\x05\\xf3O\\x9c;\\x04\\x05\\x83\\n'), bytearray(b'\\x03\\xfa\\x00\\x00\\x14j\\x9c;\\x04\\x00\\x83\\n'), bytearray(b'\\x02\\xf2\\x05\\x00\\xbc\\x0e\\xbc\\x0e\\xbd\\x0e\\xbc\\x0e'), bytearray(b'\\x03\\xf1\\x00\\x03\\x00\\x00\\x06\\x00\\x00\\x00\\x00\\x00'), bytearray(b'\\x03\\xf2\\x04\\x02\\xb4\\x0e\\xb8\\x0e\\xb8\\x0e\\xb4\\x0e'), bytearray(b'\\x08\\xf0\\x0b\\xa0\\x81\\x03\\xb6\\x0e\\x00\\x00\\x00\\x00')], [bytearray(b'\\x11\\xf1\\x00\\x01\\x00\\x00\\x06\\x00\\x00\\x00\\x00\\x00'), bytearray(b'\\n\\xf2\\x07\\x03\\xbd\\x0e\\xbb\\x0e\\x00\\x00\\x00\\x00'), bytearray(b'\\x00\\xf2\\x05\\x02\\xbb\\x0e\\xbb\\x0e\\xbd\\x0e\\xba\\x0e')]], 'cdap': 312, 'mode': 1, 'filename': 'dst.bin'}\n",
      "{'loh': 128, 'ver': 1, 'pid': 47802, 'noc': 2, 'proto': 0, 'nob': 1, 'lof': 12, 'ldh': 64, 'dap': 128, 'cdap': 312}\n",
      "{'ldh': 64, 'noc': 2, 'cp': 128, 'pp': 0, 'np': 0, 'info': 0, 'chns': [<datastorage.CHInfo object at 0x0000020C4961A070>, <datastorage.CHInfo object at 0x0000020C4961A220>]}\n",
      "{'sp': 192, 'nof': 12, 'du': 76, 'ts': 1684224256.0}\n",
      "{'sp': 252, 'nof': 8, 'du': 60, 'ts': 1684224256.0}\n"
     ]
    }
   ],
   "source": [
    "rd = RawData(filename=\"data\\\\icanbus\\\\00-02.txt\")\n",
    "\n",
    "# upload raw data to the storage \n",
    "dstorage.upload(rawdata=rd, size=10)\n",
    "\n",
    "print(vars(dstorage))\n",
    "\n",
    "print(vars(dstorage.dsheader))\n",
    "print(vars(dstorage.dbh))\n",
    "print(vars(dstorage.dbh.chns[0]))\n",
    "print(vars(dstorage.dbh.chns[1]))\n"
   ]
  },
  {
   "cell_type": "code",
   "execution_count": 3,
   "id": "4cbdaa73-65e7-4337-a7fa-cddb93e4e47c",
   "metadata": {},
   "outputs": [
    {
     "name": "stdout",
     "output_type": "stream",
     "text": [
      "dsheadr.cdap = 312\n",
      "cdap + ldh = 376\n",
      "ftell() : 376\n",
      "ftell() : 460\n",
      "ftell() : 496\n",
      "test\n",
      "b''\n",
      "end of test\n",
      "{'isAvailable': True, 'profile': {'ver': 1, 'loh': 128, 'pid': 0, 'noc': 2, 'lof': 12, 'lodh': 64}, 'profilelocked': False, 'dsheader': <datastorage.DSHeader object at 0x0000020C495BA970>, 'dbh': <datastorage.DBHeader object at 0x0000020C4961A190>, 'db': [[bytearray(b'\\x04\\xf2\\x06\\x03\\xbd\\x0e\\xbe\\x0e\\xbe\\x0e\\xc0\\x0e'), bytearray(b'\\x03\\xfa\\x00\\x05\\xf3O\\x9c;\\x04\\x05\\x83\\n'), bytearray(b'\\x03\\xfa\\x00\\x00\\x14j\\x9c;\\x04\\x00\\x83\\n'), bytearray(b'\\x02\\xf2\\x05\\x00\\xbc\\x0e\\xbc\\x0e\\xbd\\x0e\\xbc\\x0e'), bytearray(b'\\x03\\xf1\\x00\\x03\\x00\\x00\\x06\\x00\\x00\\x00\\x00\\x00'), bytearray(b'\\x03\\xf2\\x04\\x02\\xb4\\x0e\\xb8\\x0e\\xb8\\x0e\\xb4\\x0e'), bytearray(b'\\x08\\xf0\\x0b\\xa0\\x81\\x03\\xb6\\x0e\\x00\\x00\\x00\\x00')], [bytearray(b'\\x11\\xf1\\x00\\x01\\x00\\x00\\x06\\x00\\x00\\x00\\x00\\x00'), bytearray(b'\\n\\xf2\\x07\\x03\\xbd\\x0e\\xbb\\x0e\\x00\\x00\\x00\\x00'), bytearray(b'\\x00\\xf2\\x05\\x02\\xbb\\x0e\\xbb\\x0e\\xbd\\x0e\\xba\\x0e')]], 'cdap': 312, 'mode': 1, 'filename': 'dst.bin'}\n",
      "{'loh': 128, 'ver': 1, 'pid': 47802, 'noc': 2, 'proto': 0, 'nob': 2, 'lof': 12, 'ldh': 64, 'dap': 128, 'cdap': 312}\n",
      "{'ldh': 64, 'noc': 2, 'cp': 312, 'pp': 128, 'np': 0, 'info': 0, 'chns': [<datastorage.CHInfo object at 0x0000020C4961A070>, <datastorage.CHInfo object at 0x0000020C4961A220>]}\n",
      "{'sp': 376, 'nof': 12, 'du': 76, 'ts': 1684224256.0}\n",
      "{'sp': 460, 'nof': 8, 'du': 60, 'ts': 1684224256.0}\n"
     ]
    }
   ],
   "source": [
    "dstorage.flush()\n",
    "print(vars(dstorage))\n",
    "\n",
    "print(vars(dstorage.dsheader))\n",
    "print(vars(dstorage.dbh))\n",
    "print(vars(dstorage.dbh.chns[0]))\n",
    "print(vars(dstorage.dbh.chns[1]))"
   ]
  },
  {
   "cell_type": "code",
   "execution_count": null,
   "id": "f0334bf0-d96d-44ce-854e-1363b1fbd5be",
   "metadata": {},
   "outputs": [],
   "source": [
    "dstorage.db"
   ]
  },
  {
   "cell_type": "code",
   "execution_count": null,
   "id": "2f4bda98-bfe3-4731-bb8b-3d7d72a96bb2",
   "metadata": {},
   "outputs": [],
   "source": [
    "def test_1():\n",
    "    # create new data storage \n",
    "    dstorage = DataStorage(filename=\"ttt.bin\") \n",
    "\n",
    "    # set profile \n",
    "    dstorage.setprofile(profile={'pid':0xBABA})\n",
    "    dstorage.setprofile(profile={'proto':0x0000}) \n",
    "    dstorage.lockprofile()\n",
    "\n",
    "    dstorage.settimestamp()\n",
    "\n",
    "    print(vars(dstorage)) \n",
    "    print(vars(dstorage.dsheader))\n",
    "    print(vars(dstorage.dbh))\n",
    "    print(vars(dstorage.dbh.chns[0]))\n",
    "    print(vars(dstorage.dbh.chns[1]))\n",
    "\n",
    "    # instanciat raw data\n",
    "    rd = RawData(filename=\"data\\\\icanbus\\\\00-01.txt\")\n",
    "\n",
    "    # upload raw data to the storage \n",
    "    dstorage.upload(rawdata=rd, size=10)\n",
    "\n",
    "    print(vars(dstorage))\n",
    "    print(vars(dstorage.dbh))\n",
    "    print(vars(dstorage.dbh.chns[0]))\n",
    "    print(vars(dstorage.dbh.chns[1]))\n",
    "\n",
    "    # instanciat raw data\n",
    "    rd = RawData(filename=\"data\\\\icanbus\\\\00-02.txt\")\n",
    "\n",
    "    # upload raw data to the storage \n",
    "    dstorage.upload(rawdata=rd, size=10)\n",
    "    print(vars(dstorage))\n",
    "    print(vars(dstorage.dbh))\n",
    "    print(vars(dstorage.dbh.chns[0]))\n",
    "    print(vars(dstorage.dbh.chns[1]))\n",
    "\n",
    "    # instanciat raw data\n",
    "    rd = RawData(filename=\"data\\\\icanbus\\\\00-03.txt\")\n",
    "\n",
    "    # upload raw data to the storage \n",
    "    dstorage.upload(rawdata=rd, size=10)\n",
    "    print(vars(dstorage))\n",
    "    print(vars(dstorage.dbh))\n",
    "    print(vars(dstorage.dbh.chns[0]))\n",
    "    print(vars(dstorage.dbh.chns[1]))\n",
    "\n",
    "    # instanciat raw data\n",
    "    rd = RawData(filename=\"data\\\\icanbus\\\\00-04.txt\")\n",
    "\n",
    "    # upload raw data to the storage \n",
    "    dstorage.upload(rawdata=rd, size=10)\n",
    "    print(vars(dstorage))\n",
    "    print(vars(dstorage.dbh))\n",
    "    print(vars(dstorage.dbh.chns[0]))\n",
    "    print(vars(dstorage.dbh.chns[1]))\n",
    "\n",
    "    dstorage.flush()\n",
    "    \n",
    "def test_2():\n",
    "    dstorage = DataStorage(filename=\"dst1\") \n",
    "\n",
    "    # set profile \n",
    "    dstorage.setprofile(profile={'pid':0xCDCD})\n",
    "    dstorage.setprofile(profile={'proto':0x0000}) \n",
    "    dstorage.lockprofile()\n",
    "\n",
    "    # set timestamp\n",
    "    dstorage.settimestamp()\n",
    "\n",
    "    rd = RawData(filename=\"data\\\\icanbus\\\\00-01.txt\")\n",
    "\n",
    "    # upload raw data to the storage \n",
    "    dstorage.upload(rawdata=rd)\n",
    "    dstorage.flush()\n",
    "\n",
    "\n",
    "def test_3():\n",
    "    dstorage = DataStorage(filename=\"dst2\")\n",
    "\n",
    "    # set profile \n",
    "    dstorage.setprofile(profile={'pid':0x8686})\n",
    "    dstorage.setprofile(profile={'proto':0x0000}) \n",
    "    dstorage.lockprofile()\n",
    "\n",
    "    dstorage.settimestamp()\n",
    "\n",
    "\n",
    "    fl = [\"data\\\\icanbus\\\\00-01.txt\", \"data\\\\icanbus\\\\00-02.txt\", \"data\\\\icanbus\\\\00-03.txt\"]\n",
    "\n",
    "    for f in fl:\n",
    "        rd = RawData(filename=f) \n",
    "        dstorage.upload(rawdata=rd)\n",
    "\n",
    "    dstorage.flush()\n"
   ]
  },
  {
   "cell_type": "code",
   "execution_count": null,
   "id": "c12f87b7-15df-4b59-a983-7073ef8f9179",
   "metadata": {},
   "outputs": [],
   "source": [
    "test_1()"
   ]
  },
  {
   "cell_type": "code",
   "execution_count": null,
   "id": "2a28250c-e376-481e-851c-686d75bfe020",
   "metadata": {},
   "outputs": [],
   "source": [
    "import struct\n",
    "now = datetime.datetime.now()\n",
    "ts =  time.mktime(now.timetuple()) # datetime.datetime.timestamp(now) \n",
    "\n",
    "\n",
    "#bts = struct.pack(fp, ts)\n",
    "#rts = struct.unpack(fp, bts )[0]\n",
    "\n",
    "import struct\n",
    "b = struct.pack(\"f\", ts)\n",
    "len(b)    # 4\n",
    "\n",
    "rts = struct.unpack(\"f\", b)[0]"
   ]
  },
  {
   "cell_type": "code",
   "execution_count": null,
   "id": "61e73d4c-e070-4821-82ff-311546d0290e",
   "metadata": {},
   "outputs": [],
   "source": [
    "rts"
   ]
  },
  {
   "cell_type": "code",
   "execution_count": null,
   "id": "be25c357-33ea-47c3-989b-9471d43050dc",
   "metadata": {},
   "outputs": [],
   "source": [
    "ts"
   ]
  },
  {
   "cell_type": "code",
   "execution_count": null,
   "id": "cf2acc28-cf89-47de-9252-75e9e1d00b27",
   "metadata": {},
   "outputs": [],
   "source": []
  }
 ],
 "metadata": {
  "kernelspec": {
   "display_name": "Python 3 (ipykernel)",
   "language": "python",
   "name": "python3"
  },
  "language_info": {
   "codemirror_mode": {
    "name": "ipython",
    "version": 3
   },
   "file_extension": ".py",
   "mimetype": "text/x-python",
   "name": "python",
   "nbconvert_exporter": "python",
   "pygments_lexer": "ipython3",
   "version": "3.9.13"
  }
 },
 "nbformat": 4,
 "nbformat_minor": 5
}
