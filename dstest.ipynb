{
 "cells": [
  {
   "cell_type": "code",
   "execution_count": 1,
   "id": "882c1215-cd92-45aa-b7e3-101a95e4c54b",
   "metadata": {},
   "outputs": [],
   "source": [
    "from datastorage import *\n",
    "\n",
    "# create new data storage \n",
    "dstorage = DataStorage(filename=\"dst\") \n",
    "\n",
    "# set profile\n",
    "profile={}\n",
    "#profile['noc'] = 2 \n",
    "#profile['protocal'] = (\"JKE-INT-CAN-PROTO\", \"JKE-INT-CAN-PROTO\") \n",
    "#dstorage.setprofile(profile=profile)\n",
    "dstorage.setprofile(profile={'noc':2})\n",
    "dstorage.setprofile(profile={'protocal':(\"JKE-INT-CAN-PROTO\", \"JKE-INT-CAN-PROTO\")})\n",
    "dstorage.lockprofile()\n"
   ]
  },
  {
   "cell_type": "code",
   "execution_count": 2,
   "id": "85221ca1-e954-413c-96ff-cb085169341f",
   "metadata": {},
   "outputs": [
    {
     "data": {
      "text/plain": [
       "{'version': '0.1a',\n",
       " 'isAvailable': False,\n",
       " 'profile': {'noc': 2, 'protocal': ('JKE-INT-CAN-PROTO', 'JKE-INT-CAN-PROTO')},\n",
       " 'profilelocked': True,\n",
       " 'header': {},\n",
       " 'ds': [[], []],\n",
       " 'mode': 1,\n",
       " 'filename': 'dst'}"
      ]
     },
     "execution_count": 2,
     "metadata": {},
     "output_type": "execute_result"
    }
   ],
   "source": [
    "vars(dstorage)"
   ]
  },
  {
   "cell_type": "code",
   "execution_count": null,
   "id": "8b7bd528-b973-4031-889b-d3a7a43cbfe9",
   "metadata": {},
   "outputs": [],
   "source": [
    "# instanciat raw data\n",
    "rd = RawData(filename=\"data\\\\icanbus\\\\00-01.txt\")\n",
    "\n",
    "# upload raw data to the storage \n",
    "dstorage.upload(rawdata=rd)\n"
   ]
  },
  {
   "cell_type": "code",
   "execution_count": 3,
   "id": "947d4d15-d0f3-4361-9010-f447a18a6929",
   "metadata": {},
   "outputs": [],
   "source": [
    "dict1 = {\"noc\":2}\n",
    "dict2 = {\"noc\":4, \"protocol\":(1,2,3,4)}\n",
    "\n",
    "dict1.update(dict2)"
   ]
  },
  {
   "cell_type": "code",
   "execution_count": 2,
   "id": "73b265be-43ba-438a-927a-42ff244fb866",
   "metadata": {},
   "outputs": [],
   "source": [
    "dsheader = DSHeader()\n",
    "dbheader = DBHeader()\n",
    "dbheader.addch(ch=CHInfo())\n",
    "dbheader.addch(ch=CHInfo())\n",
    " \n",
    "\n",
    "ds = dsheader.to_bytes()\n",
    "db = dbheader.to_bytes()\n",
    " "
   ]
  },
  {
   "cell_type": "code",
   "execution_count": 9,
   "id": "759f3f3b-75a5-41b3-900d-eb17c177cce3",
   "metadata": {},
   "outputs": [],
   "source": [
    "sb = ds[:2]\n",
    "a = int.from_bytes(sb, 'big')"
   ]
  },
  {
   "cell_type": "code",
   "execution_count": 46,
   "id": "a51de620-1476-4041-beda-5de59999fdce",
   "metadata": {},
   "outputs": [],
   "source": [
    "nd = []\n",
    "for i in dd:\n",
    "    if type(i) is list: \n",
    "        nd += i\n",
    "    else:\n",
    "        nd.append(i)\n",
    "\n",
    "nd1 = []\n",
    "for i in nd:\n",
    "    if type(i) is list: \n",
    "        nd1 += i\n",
    "    else:\n",
    "        nd1.append(i)\n",
    "\n",
    "db=bytearray(nd1)\n",
    "print(bytearray(nd1))\n"
   ]
  },
  {
   "cell_type": "code",
   "execution_count": 5,
   "id": "ca20f59a-3c30-4053-a5bf-b267e88bae68",
   "metadata": {},
   "outputs": [],
   "source": [
    "eb = bytearray()\n",
    "a1 = 1230\n",
    "eb += bytearray(a1.to_bytes(4, byteorder = 'big'))"
   ]
  },
  {
   "cell_type": "code",
   "execution_count": 4,
   "id": "fefc5d0f-5665-457a-93a3-7b9fa61e3b28",
   "metadata": {},
   "outputs": [],
   "source": [
    "# dsheader = DSHeader()\n",
    "dsheader.ver = 0x0105\n",
    "dsheader.pid = 0xABAB\n",
    "dsheader.nob = 7\n",
    "dsheader.dap = 128\n",
    "\n",
    "dh = dsheader.to_bytes()\n"
   ]
  },
  {
   "cell_type": "code",
   "execution_count": 6,
   "id": "8a4118c0-5942-4ad5-b600-03c52f923624",
   "metadata": {},
   "outputs": [],
   "source": [
    "with open(\"test.bin\",\"wb\") as f:  \n",
    "    f.write(dh)"
   ]
  },
  {
   "cell_type": "code",
   "execution_count": 3,
   "id": "03aeef06-280d-4195-aa38-90edc56c1625",
   "metadata": {},
   "outputs": [
    {
     "data": {
      "text/plain": [
       "{'loh': 128,\n",
       " 'ver': 261,\n",
       " 'pid': 43947,\n",
       " 'noc': 2,\n",
       " 'nob': 7,\n",
       " 'lof': 8,\n",
       " 'ldh': 64,\n",
       " 'dap': 128}"
      ]
     },
     "execution_count": 3,
     "metadata": {},
     "output_type": "execute_result"
    }
   ],
   "source": [
    "vars(dsheader)"
   ]
  },
  {
   "cell_type": "code",
   "execution_count": 7,
   "id": "260e4e84-6e07-4e2a-8df4-1d2bc6e5ef85",
   "metadata": {},
   "outputs": [],
   "source": [
    "with open(\"test.bin\",\"rb\") as f:  \n",
    "    _dh = f.read(128)\n",
    "    \n",
    "    "
   ]
  },
  {
   "cell_type": "code",
   "execution_count": 8,
   "id": "2d8a8fc3-6677-4b42-a917-1c794252022b",
   "metadata": {},
   "outputs": [
    {
     "data": {
      "text/plain": [
       "b'\\x00\\x80\\x01\\x05\\xab\\xab\\x00\\x02\\x00\\x07\\x00\\x08\\x00@\\x00\\x80\\x00\\x00\\x00\\x00\\x00\\x00\\x00\\x00\\x00\\x00\\x00\\x00\\x00\\x00\\x00\\x00\\x00\\x00\\x00\\x00\\x00\\x00\\x00\\x00\\x00\\x00\\x00\\x00\\x00\\x00\\x00\\x00\\x00\\x00\\x00\\x00\\x00\\x00\\x00\\x00\\x00\\x00\\x00\\x00\\x00\\x00\\x00\\x00\\x00\\x00\\x00\\x00\\x00\\x00\\x00\\x00\\x00\\x00\\x00\\x00\\x00\\x00\\x00\\x00\\x00\\x00\\x00\\x00\\x00\\x00\\x00\\x00\\x00\\x00\\x00\\x00\\x00\\x00\\x00\\x00\\x00\\x00\\x00\\x00\\x00\\x00\\x00\\x00\\x00\\x00\\x00\\x00\\x00\\x00\\x00\\x00\\x00\\x00\\x00\\x00\\x00\\x00\\x00\\x00\\x00\\x00\\x00\\x00\\x00\\x00\\x00\\x00'"
      ]
     },
     "execution_count": 8,
     "metadata": {},
     "output_type": "execute_result"
    }
   ],
   "source": [
    "_dh"
   ]
  },
  {
   "cell_type": "code",
   "execution_count": 9,
   "id": "52b95df2-4426-408f-b697-7559971c986a",
   "metadata": {},
   "outputs": [
    {
     "data": {
      "text/plain": [
       "{'loh': 128,\n",
       " 'ver': 261,\n",
       " 'pid': 43947,\n",
       " 'noc': 2,\n",
       " 'nob': 7,\n",
       " 'lof': 8,\n",
       " 'ldh': 64,\n",
       " 'dap': 128}"
      ]
     },
     "execution_count": 9,
     "metadata": {},
     "output_type": "execute_result"
    }
   ],
   "source": [
    "newdh =  DSHeader(data=_dh)\n",
    "vars(newdh)"
   ]
  },
  {
   "cell_type": "code",
   "execution_count": 12,
   "id": "d252f741-6169-4b1c-8d37-f0081a1fe286",
   "metadata": {},
   "outputs": [
    {
     "data": {
      "text/plain": [
       "{'loh': 128,\n",
       " 'ver': 261,\n",
       " 'pid': 43947,\n",
       " 'noc': 2,\n",
       " 'nob': 7,\n",
       " 'lof': 8,\n",
       " 'ldh': 64,\n",
       " 'dap': 128}"
      ]
     },
     "execution_count": 12,
     "metadata": {},
     "output_type": "execute_result"
    }
   ],
   "source": [
    "vars(newdh)"
   ]
  },
  {
   "cell_type": "code",
   "execution_count": 5,
   "id": "47ae24d6-7468-4c52-9350-937555690e86",
   "metadata": {},
   "outputs": [
    {
     "data": {
      "text/plain": [
       "{'loh': 128,\n",
       " 'ver': 261,\n",
       " 'pid': 43947,\n",
       " 'noc': 2,\n",
       " 'nob': 7,\n",
       " 'lof': 8,\n",
       " 'ldh': 64,\n",
       " 'dap': 128}"
      ]
     },
     "execution_count": 5,
     "metadata": {},
     "output_type": "execute_result"
    }
   ],
   "source": [
    "vars(dsheader)"
   ]
  },
  {
   "cell_type": "code",
   "execution_count": null,
   "id": "9d20482a-9db4-4b3d-ac0e-2cafd6121b27",
   "metadata": {},
   "outputs": [],
   "source": []
  }
 ],
 "metadata": {
  "kernelspec": {
   "display_name": "Python 3 (ipykernel)",
   "language": "python",
   "name": "python3"
  },
  "language_info": {
   "codemirror_mode": {
    "name": "ipython",
    "version": 3
   },
   "file_extension": ".py",
   "mimetype": "text/x-python",
   "name": "python",
   "nbconvert_exporter": "python",
   "pygments_lexer": "ipython3",
   "version": "3.9.13"
  }
 },
 "nbformat": 4,
 "nbformat_minor": 5
}
