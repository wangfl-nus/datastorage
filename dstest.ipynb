{
 "cells": [
  {
   "cell_type": "code",
   "execution_count": 1,
   "id": "15cb70a0-2ef4-43b1-9309-77c206c17e0b",
   "metadata": {},
   "outputs": [
    {
     "name": "stdout",
     "output_type": "stream",
     "text": [
      "{'isAvailable': False, 'profile': {'ver': 1, 'loh': 128, 'pid': 64720, 'noc': 2, 'lof': 8, 'lodh': 64, 'proto': 256}, 'profilelocked': True, 'dsheader': <datastorage.DSHeader object at 0x00000142337AA220>, 'dbh': <datastorage.DBHeader object at 0x00000142337AA3D0>, 'db': [[], []], 'mode': 1, 'filename': 'dst'}\n",
      "{'loh': 128, 'ver': 1, 'pid': 64720, 'noc': 2, 'proto': 256, 'nob': 0, 'lof': 8, 'ldh': 64, 'dap': 0}\n",
      "{'ldh': 64, 'noc': 2, 'cp': 0, 'fp': 0, 'bp': 0, 'info': 0, 'chns': [<datastorage.CHInfo object at 0x00000142337AA1F0>, <datastorage.CHInfo object at 0x00000142337AA490>]}\n",
      "{'sp': 64, 'nof': 0, 'du': 0, 'ts': 0}\n",
      "{'sp': 64, 'nof': 0, 'du': 0, 'ts': 0}\n"
     ]
    }
   ],
   "source": [
    "from datastorage import *\n",
    "\n",
    "# create new data storage \n",
    "dstorage = DataStorage(filename=\"dst\") \n",
    "\n",
    "# set profile \n",
    "dstorage.setprofile(profile={'pid':0xFCD0})\n",
    "dstorage.setprofile(profile={'proto':0x0100}) \n",
    "dstorage.lockprofile()\n",
    "\n",
    "print(vars(dstorage)) \n",
    "print(vars(dstorage.dsheader))\n",
    "print(vars(dstorage.dbh))\n",
    "print(vars(dstorage.dbh.chns[0]))\n",
    "print(vars(dstorage.dbh.chns[1]))"
   ]
  },
  {
   "cell_type": "code",
   "execution_count": 3,
   "id": "ab7fd1b0-42a0-4ca8-ae4c-98ea9845ae32",
   "metadata": {},
   "outputs": [
    {
     "name": "stdout",
     "output_type": "stream",
     "text": [
      "{'isAvailable': False, 'profile': {'ver': 1, 'loh': 128, 'pid': 64720, 'noc': 2, 'lof': 8, 'lodh': 64, 'proto': 256}, 'profilelocked': True, 'dsheader': <datastorage.DSHeader object at 0x00000142337AA220>, 'dbh': <datastorage.DBHeader object at 0x00000142337AA3D0>, 'db': [[bytearray(b'\\x03\\xf2\\x05\\x02\\xc2\\x0e\\xc2\\x0e\\xc3\\x0e\\xc5\\x0e'), bytearray(b'\\x11\\xf3\\x00\\x04\\x9e\\x02\\x9e\\x02\\x9e\\x02\\x9e\\x02'), bytearray(b'\\x14\\xf2\\x06\\x00\\xc3\\x0e\\xc4\\x0e\\xc4\\x0e\\xc7\\x0e'), bytearray(b'\\x03\\xf0\\x04\\xa0\\xc8\\x0eY\\xb0\\x0e/\\xba\\x0e'), bytearray(b'\\x07\\xf2\\x00\\x05\\xb1\\x0e\\xb3\\x0e\\xb5\\x0e\\xb6\\x0e')], [bytearray(b'\\x07\\xfb*\\xa0\\xa0\\xd0\\x07\\x00\\x00\\x00\\x00\\x00'), bytearray(b'\\x08\\xf2\\x00\\x03\\xbd\\x0e\\xbd\\x0e\\xc0\\x0e\\xbd\\x0e'), bytearray(b'\\x03\\xf1\\x02\\x00\\xd8\\x08\\xef}\\x00\\x00C\\x00'), bytearray(b'\\x06\\xf2\\x03\\x05\\xb1\\x0e\\xb3\\x0e\\xb2\\x0e\\xb2\\x0e'), bytearray(b'\\t\\xf2\\x03\\x01\\xbb\\x0e\\xbb\\x0e\\xbf\\x0e\\xbf\\x0e')]], 'mode': 1, 'filename': 'dst'}\n",
      "{'ldh': 64, 'noc': 2, 'cp': 0, 'fp': 0, 'bp': 0, 'info': 0, 'chns': [<datastorage.CHInfo object at 0x00000142337AA1F0>, <datastorage.CHInfo object at 0x00000142337AA490>]}\n",
      "{'sp': 64, 'nof': 5, 'du': 0, 'ts': 0}\n",
      "{'sp': 64, 'nof': 5, 'du': 0, 'ts': 0}\n"
     ]
    }
   ],
   "source": [
    "# instanciat raw data\n",
    "rd = RawData(filename=\"data\\\\icanbus\\\\00-01.txt\")\n",
    "\n",
    "# upload raw data to the storage \n",
    "dstorage.upload(rawdata=rd, size=10)\n",
    "\n",
    "print(vars(dstorage))\n",
    "print(vars(dstorage.dbh))\n",
    "print(vars(dstorage.dbh.chns[0]))\n",
    "print(vars(dstorage.dbh.chns[1]))"
   ]
  },
  {
   "cell_type": "code",
   "execution_count": 4,
   "id": "1cca629c-5eae-43bc-adf1-d96055c5ea0d",
   "metadata": {},
   "outputs": [
    {
     "name": "stdout",
     "output_type": "stream",
     "text": [
      "{'isAvailable': False, 'profile': {'ver': 1, 'loh': 128, 'pid': 64720, 'noc': 2, 'lof': 8, 'lodh': 64, 'proto': 256}, 'profilelocked': True, 'dsheader': <datastorage.DSHeader object at 0x00000142337AA220>, 'dbh': <datastorage.DBHeader object at 0x00000142337AA3D0>, 'db': [[bytearray(b'\\x03\\xf2\\x05\\x02\\xc2\\x0e\\xc2\\x0e\\xc3\\x0e\\xc5\\x0e'), bytearray(b'\\x11\\xf3\\x00\\x04\\x9e\\x02\\x9e\\x02\\x9e\\x02\\x9e\\x02'), bytearray(b'\\x14\\xf2\\x06\\x00\\xc3\\x0e\\xc4\\x0e\\xc4\\x0e\\xc7\\x0e'), bytearray(b'\\x03\\xf0\\x04\\xa0\\xc8\\x0eY\\xb0\\x0e/\\xba\\x0e'), bytearray(b'\\x07\\xf2\\x00\\x05\\xb1\\x0e\\xb3\\x0e\\xb5\\x0e\\xb6\\x0e'), bytearray(b'\\x04\\xf2\\x06\\x03\\xbd\\x0e\\xbe\\x0e\\xbe\\x0e\\xc0\\x0e'), bytearray(b'\\x03\\xfa\\x00\\x05\\xf3O\\x9c;\\x04\\x05\\x83\\n'), bytearray(b'\\x03\\xfa\\x00\\x00\\x14j\\x9c;\\x04\\x00\\x83\\n'), bytearray(b'\\x02\\xf2\\x05\\x00\\xbc\\x0e\\xbc\\x0e\\xbd\\x0e\\xbc\\x0e'), bytearray(b'\\x03\\xf1\\x00\\x03\\x00\\x00\\x06\\x00\\x00\\x00\\x00\\x00'), bytearray(b'\\x03\\xf2\\x04\\x02\\xb4\\x0e\\xb8\\x0e\\xb8\\x0e\\xb4\\x0e'), bytearray(b'\\x08\\xf0\\x0b\\xa0\\x81\\x03\\xb6\\x0e\\x00\\x00\\x00\\x00')], [bytearray(b'\\x07\\xfb*\\xa0\\xa0\\xd0\\x07\\x00\\x00\\x00\\x00\\x00'), bytearray(b'\\x08\\xf2\\x00\\x03\\xbd\\x0e\\xbd\\x0e\\xc0\\x0e\\xbd\\x0e'), bytearray(b'\\x03\\xf1\\x02\\x00\\xd8\\x08\\xef}\\x00\\x00C\\x00'), bytearray(b'\\x06\\xf2\\x03\\x05\\xb1\\x0e\\xb3\\x0e\\xb2\\x0e\\xb2\\x0e'), bytearray(b'\\t\\xf2\\x03\\x01\\xbb\\x0e\\xbb\\x0e\\xbf\\x0e\\xbf\\x0e'), bytearray(b'\\x11\\xf1\\x00\\x01\\x00\\x00\\x06\\x00\\x00\\x00\\x00\\x00'), bytearray(b'\\n\\xf2\\x07\\x03\\xbd\\x0e\\xbb\\x0e\\x00\\x00\\x00\\x00'), bytearray(b'\\x00\\xf2\\x05\\x02\\xbb\\x0e\\xbb\\x0e\\xbd\\x0e\\xba\\x0e')]], 'mode': 1, 'filename': 'dst'}\n",
      "{'ldh': 64, 'noc': 2, 'cp': 0, 'fp': 0, 'bp': 0, 'info': 0, 'chns': [<datastorage.CHInfo object at 0x00000142337AA1F0>, <datastorage.CHInfo object at 0x00000142337AA490>]}\n",
      "{'sp': 64, 'nof': 12, 'du': 0, 'ts': 0}\n",
      "{'sp': 64, 'nof': 8, 'du': 0, 'ts': 0}\n"
     ]
    }
   ],
   "source": [
    "# instanciat raw data\n",
    "rd = RawData(filename=\"data\\\\icanbus\\\\00-02.txt\")\n",
    "\n",
    "# upload raw data to the storage \n",
    "dstorage.upload(rawdata=rd, size=10)\n",
    "print(vars(dstorage))\n",
    "print(vars(dstorage.dbh))\n",
    "print(vars(dstorage.dbh.chns[0]))\n",
    "print(vars(dstorage.dbh.chns[1]))"
   ]
  },
  {
   "cell_type": "code",
   "execution_count": 5,
   "id": "c7e63750-e039-41e1-a40c-7cc1a8bd1a22",
   "metadata": {},
   "outputs": [
    {
     "name": "stdout",
     "output_type": "stream",
     "text": [
      "{'isAvailable': False, 'profile': {'ver': 1, 'loh': 128, 'pid': 64720, 'noc': 2, 'lof': 8, 'lodh': 64, 'proto': 256}, 'profilelocked': True, 'dsheader': <datastorage.DSHeader object at 0x00000142337AA220>, 'dbh': <datastorage.DBHeader object at 0x00000142337AA3D0>, 'db': [[bytearray(b'\\x03\\xf2\\x05\\x02\\xc2\\x0e\\xc2\\x0e\\xc3\\x0e\\xc5\\x0e'), bytearray(b'\\x11\\xf3\\x00\\x04\\x9e\\x02\\x9e\\x02\\x9e\\x02\\x9e\\x02'), bytearray(b'\\x14\\xf2\\x06\\x00\\xc3\\x0e\\xc4\\x0e\\xc4\\x0e\\xc7\\x0e'), bytearray(b'\\x03\\xf0\\x04\\xa0\\xc8\\x0eY\\xb0\\x0e/\\xba\\x0e'), bytearray(b'\\x07\\xf2\\x00\\x05\\xb1\\x0e\\xb3\\x0e\\xb5\\x0e\\xb6\\x0e'), bytearray(b'\\x04\\xf2\\x06\\x03\\xbd\\x0e\\xbe\\x0e\\xbe\\x0e\\xc0\\x0e'), bytearray(b'\\x03\\xfa\\x00\\x05\\xf3O\\x9c;\\x04\\x05\\x83\\n'), bytearray(b'\\x03\\xfa\\x00\\x00\\x14j\\x9c;\\x04\\x00\\x83\\n'), bytearray(b'\\x02\\xf2\\x05\\x00\\xbc\\x0e\\xbc\\x0e\\xbd\\x0e\\xbc\\x0e'), bytearray(b'\\x03\\xf1\\x00\\x03\\x00\\x00\\x06\\x00\\x00\\x00\\x00\\x00'), bytearray(b'\\x03\\xf2\\x04\\x02\\xb4\\x0e\\xb8\\x0e\\xb8\\x0e\\xb4\\x0e'), bytearray(b'\\x08\\xf0\\x0b\\xa0\\x81\\x03\\xb6\\x0e\\x00\\x00\\x00\\x00'), bytearray(b'\\x13\\xf0\\x00\\xa0\\x04\\x00\\x00\\x00\\x03\\x04\\x83\\x1c'), bytearray(b'\\x14\\xf1\\x02\\x05\\xd5\\x08\\xf4|\\x00\\x00C\\x00'), bytearray(b'\\x02\\xf2\\x04\\x00\\xb4\\x0e\\xb6\\x0e\\xb6\\x0e\\xb6\\x0e'), bytearray(b'\\x01\\xfa\\x00\\x03Aj\\x9c;\\x04\\x03\\x83\\n'), bytearray(b'\\x02\\xfa\\x00\\x02Fj\\x9c;\\x04\\x02\\x83\\n'), bytearray(b'\\x03\\xf2\\x03\\x02\\xb5\\x0e\\xb8\\x0e\\xb6\\x0e\\xb7\\x0e')], [bytearray(b'\\x07\\xfb*\\xa0\\xa0\\xd0\\x07\\x00\\x00\\x00\\x00\\x00'), bytearray(b'\\x08\\xf2\\x00\\x03\\xbd\\x0e\\xbd\\x0e\\xc0\\x0e\\xbd\\x0e'), bytearray(b'\\x03\\xf1\\x02\\x00\\xd8\\x08\\xef}\\x00\\x00C\\x00'), bytearray(b'\\x06\\xf2\\x03\\x05\\xb1\\x0e\\xb3\\x0e\\xb2\\x0e\\xb2\\x0e'), bytearray(b'\\t\\xf2\\x03\\x01\\xbb\\x0e\\xbb\\x0e\\xbf\\x0e\\xbf\\x0e'), bytearray(b'\\x11\\xf1\\x00\\x01\\x00\\x00\\x06\\x00\\x00\\x00\\x00\\x00'), bytearray(b'\\n\\xf2\\x07\\x03\\xbd\\x0e\\xbb\\x0e\\x00\\x00\\x00\\x00'), bytearray(b'\\x00\\xf2\\x05\\x02\\xbb\\x0e\\xbb\\x0e\\xbd\\x0e\\xba\\x0e'), bytearray(b'\\x06\\xf2\\x05\\x00\\xbc\\x0e\\xbb\\x0e\\xbd\\x0e\\xbe\\x0e'), bytearray(b'\\x0b\\xf1\\x00\\x05\\x00\\x00\\x06\\x00\\x00\\x00\\x00\\x00'), bytearray(b'\\x0c\\xf2\\x03\\x04\\xb4\\x0e\\xb6\\x0e\\xb5\\x0e\\xb8\\x0e'), bytearray(b'\\x01\\xf2\\x06\\x03\\xc1\\x0e\\xbf\\x0e\\xbe\\x0e\\xc0\\x0e')]], 'mode': 1, 'filename': 'dst'}\n",
      "{'ldh': 64, 'noc': 2, 'cp': 0, 'fp': 0, 'bp': 0, 'info': 0, 'chns': [<datastorage.CHInfo object at 0x00000142337AA1F0>, <datastorage.CHInfo object at 0x00000142337AA490>]}\n",
      "{'sp': 64, 'nof': 18, 'du': 0, 'ts': 0}\n",
      "{'sp': 64, 'nof': 12, 'du': 0, 'ts': 0}\n"
     ]
    }
   ],
   "source": [
    "# instanciat raw data\n",
    "rd = RawData(filename=\"data\\\\icanbus\\\\00-03.txt\")\n",
    "\n",
    "# upload raw data to the storage \n",
    "dstorage.upload(rawdata=rd, size=10)\n",
    "print(vars(dstorage))\n",
    "print(vars(dstorage.dbh))\n",
    "print(vars(dstorage.dbh.chns[0]))\n",
    "print(vars(dstorage.dbh.chns[1]))"
   ]
  },
  {
   "cell_type": "code",
   "execution_count": 9,
   "id": "759f3f3b-75a5-41b3-900d-eb17c177cce3",
   "metadata": {},
   "outputs": [],
   "source": [
    "sb = ds[:2]\n",
    "a = int.from_bytes(sb, 'big')"
   ]
  },
  {
   "cell_type": "code",
   "execution_count": 46,
   "id": "a51de620-1476-4041-beda-5de59999fdce",
   "metadata": {},
   "outputs": [],
   "source": [
    "nd = []\n",
    "for i in dd:\n",
    "    if type(i) is list: \n",
    "        nd += i\n",
    "    else:\n",
    "        nd.append(i)\n",
    "\n",
    "nd1 = []\n",
    "for i in nd:\n",
    "    if type(i) is list: \n",
    "        nd1 += i\n",
    "    else:\n",
    "        nd1.append(i)\n",
    "\n",
    "db=bytearray(nd1)\n",
    "print(bytearray(nd1))\n"
   ]
  },
  {
   "cell_type": "code",
   "execution_count": 5,
   "id": "ca20f59a-3c30-4053-a5bf-b267e88bae68",
   "metadata": {},
   "outputs": [],
   "source": [
    "eb = bytearray()\n",
    "a1 = 1230\n",
    "eb += bytearray(a1.to_bytes(4, byteorder = 'big'))"
   ]
  },
  {
   "cell_type": "code",
   "execution_count": 4,
   "id": "fefc5d0f-5665-457a-93a3-7b9fa61e3b28",
   "metadata": {},
   "outputs": [],
   "source": [
    "# dsheader = DSHeader()\n",
    "dsheader.ver = 0x0105\n",
    "dsheader.pid = 0xABAB\n",
    "dsheader.nob = 7\n",
    "dsheader.dap = 128\n",
    "\n",
    "dh = dsheader.to_bytes()\n"
   ]
  },
  {
   "cell_type": "code",
   "execution_count": 6,
   "id": "8a4118c0-5942-4ad5-b600-03c52f923624",
   "metadata": {},
   "outputs": [],
   "source": [
    "with open(\"test.bin\",\"wb\") as f:  \n",
    "    f.write(dh)"
   ]
  },
  {
   "cell_type": "code",
   "execution_count": 3,
   "id": "03aeef06-280d-4195-aa38-90edc56c1625",
   "metadata": {},
   "outputs": [
    {
     "data": {
      "text/plain": [
       "{'loh': 128,\n",
       " 'ver': 261,\n",
       " 'pid': 43947,\n",
       " 'noc': 2,\n",
       " 'nob': 7,\n",
       " 'lof': 8,\n",
       " 'ldh': 64,\n",
       " 'dap': 128}"
      ]
     },
     "execution_count": 3,
     "metadata": {},
     "output_type": "execute_result"
    }
   ],
   "source": [
    "vars(dsheader)"
   ]
  },
  {
   "cell_type": "code",
   "execution_count": 7,
   "id": "260e4e84-6e07-4e2a-8df4-1d2bc6e5ef85",
   "metadata": {},
   "outputs": [],
   "source": [
    "with open(\"test.bin\",\"rb\") as f:  \n",
    "    _dh = f.read(128)\n",
    "    \n",
    "    "
   ]
  },
  {
   "cell_type": "code",
   "execution_count": 8,
   "id": "2d8a8fc3-6677-4b42-a917-1c794252022b",
   "metadata": {},
   "outputs": [
    {
     "data": {
      "text/plain": [
       "b'\\x00\\x80\\x01\\x05\\xab\\xab\\x00\\x02\\x00\\x07\\x00\\x08\\x00@\\x00\\x80\\x00\\x00\\x00\\x00\\x00\\x00\\x00\\x00\\x00\\x00\\x00\\x00\\x00\\x00\\x00\\x00\\x00\\x00\\x00\\x00\\x00\\x00\\x00\\x00\\x00\\x00\\x00\\x00\\x00\\x00\\x00\\x00\\x00\\x00\\x00\\x00\\x00\\x00\\x00\\x00\\x00\\x00\\x00\\x00\\x00\\x00\\x00\\x00\\x00\\x00\\x00\\x00\\x00\\x00\\x00\\x00\\x00\\x00\\x00\\x00\\x00\\x00\\x00\\x00\\x00\\x00\\x00\\x00\\x00\\x00\\x00\\x00\\x00\\x00\\x00\\x00\\x00\\x00\\x00\\x00\\x00\\x00\\x00\\x00\\x00\\x00\\x00\\x00\\x00\\x00\\x00\\x00\\x00\\x00\\x00\\x00\\x00\\x00\\x00\\x00\\x00\\x00\\x00\\x00\\x00\\x00\\x00\\x00\\x00\\x00\\x00\\x00'"
      ]
     },
     "execution_count": 8,
     "metadata": {},
     "output_type": "execute_result"
    }
   ],
   "source": [
    "_dh"
   ]
  },
  {
   "cell_type": "code",
   "execution_count": 9,
   "id": "52b95df2-4426-408f-b697-7559971c986a",
   "metadata": {},
   "outputs": [
    {
     "data": {
      "text/plain": [
       "{'loh': 128,\n",
       " 'ver': 261,\n",
       " 'pid': 43947,\n",
       " 'noc': 2,\n",
       " 'nob': 7,\n",
       " 'lof': 8,\n",
       " 'ldh': 64,\n",
       " 'dap': 128}"
      ]
     },
     "execution_count": 9,
     "metadata": {},
     "output_type": "execute_result"
    }
   ],
   "source": [
    "newdh =  DSHeader(data=_dh)\n",
    "vars(newdh)"
   ]
  },
  {
   "cell_type": "code",
   "execution_count": 12,
   "id": "d252f741-6169-4b1c-8d37-f0081a1fe286",
   "metadata": {},
   "outputs": [
    {
     "data": {
      "text/plain": [
       "{'loh': 128,\n",
       " 'ver': 261,\n",
       " 'pid': 43947,\n",
       " 'noc': 2,\n",
       " 'nob': 7,\n",
       " 'lof': 8,\n",
       " 'ldh': 64,\n",
       " 'dap': 128}"
      ]
     },
     "execution_count": 12,
     "metadata": {},
     "output_type": "execute_result"
    }
   ],
   "source": [
    "vars(newdh)"
   ]
  },
  {
   "cell_type": "code",
   "execution_count": 15,
   "id": "47ae24d6-7468-4c52-9350-937555690e86",
   "metadata": {},
   "outputs": [],
   "source": [
    "dsheader_vars=vars(dsheader)"
   ]
  },
  {
   "cell_type": "code",
   "execution_count": 19,
   "id": "9d20482a-9db4-4b3d-ac0e-2cafd6121b27",
   "metadata": {},
   "outputs": [],
   "source": [
    "k='loh'\n",
    "\n",
    "dsheader_vars[k] = 900"
   ]
  },
  {
   "cell_type": "code",
   "execution_count": 20,
   "id": "5c2d6ad9-167b-45ca-a985-9430772cdef6",
   "metadata": {},
   "outputs": [
    {
     "data": {
      "text/plain": [
       "{'loh': 900,\n",
       " 'ver': 261,\n",
       " 'pid': 43947,\n",
       " 'noc': 2,\n",
       " 'nob': 7,\n",
       " 'lof': 8,\n",
       " 'ldh': 64,\n",
       " 'dap': 128}"
      ]
     },
     "execution_count": 20,
     "metadata": {},
     "output_type": "execute_result"
    }
   ],
   "source": [
    "vars(dsheader)"
   ]
  },
  {
   "cell_type": "code",
   "execution_count": 2,
   "id": "f773964d-f5f3-4af6-9689-7fda7dbf9687",
   "metadata": {},
   "outputs": [
    {
     "data": {
      "text/plain": [
       "{'loh': 128,\n",
       " 'ver': 1,\n",
       " 'pid': 64720,\n",
       " 'noc': 2,\n",
       " 'proto': 0,\n",
       " 'nob': 0,\n",
       " 'lof': 8,\n",
       " 'ldh': 64,\n",
       " 'dap': 0}"
      ]
     },
     "execution_count": 2,
     "metadata": {},
     "output_type": "execute_result"
    }
   ],
   "source": [
    "vars(dstorage.dsheader)"
   ]
  }
 ],
 "metadata": {
  "kernelspec": {
   "display_name": "Python 3 (ipykernel)",
   "language": "python",
   "name": "python3"
  },
  "language_info": {
   "codemirror_mode": {
    "name": "ipython",
    "version": 3
   },
   "file_extension": ".py",
   "mimetype": "text/x-python",
   "name": "python",
   "nbconvert_exporter": "python",
   "pygments_lexer": "ipython3",
   "version": "3.9.13"
  }
 },
 "nbformat": 4,
 "nbformat_minor": 5
}
