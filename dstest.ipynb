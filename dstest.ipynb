{
 "cells": [
  {
   "cell_type": "code",
   "execution_count": 1,
   "id": "15cb70a0-2ef4-43b1-9309-77c206c17e0b",
   "metadata": {},
   "outputs": [
    {
     "name": "stdout",
     "output_type": "stream",
     "text": [
      "{'isAvailable': False, 'profile': {'ver': 1, 'loh': 128, 'pid': 47802, 'noc': 2, 'lof': 12, 'lodh': 64, 'proto': 0}, 'profilelocked': True, 'dsheader': <datastorage.DSHeader object at 0x0000016B47E213A0>, 'dbh': <datastorage.DBHeader object at 0x0000016B47E219A0>, 'db': [[], []], 'mode': 1, 'filename': 'dst'}\n",
      "{'loh': 128, 'ver': 1, 'pid': 47802, 'noc': 2, 'proto': 0, 'nob': 0, 'lof': 12, 'ldh': 64, 'dap': 128}\n",
      "{'ldh': 64, 'noc': 2, 'cp': 0, 'pp': 0, 'np': 0, 'info': 0, 'chns': [<datastorage.CHInfo object at 0x0000016B482184F0>, <datastorage.CHInfo object at 0x0000016B48218580>]}\n",
      "{'sp': 64, 'nof': 0, 'du': 0, 'ts': 0}\n",
      "{'sp': 64, 'nof': 0, 'du': 0, 'ts': 0}\n"
     ]
    }
   ],
   "source": [
    "from datastorage import *\n",
    "\n",
    "# create new data storage \n",
    "dstorage = DataStorage(filename=\"dst\") \n",
    "\n",
    "# set profile \n",
    "dstorage.setprofile(profile={'pid':0xBABA})\n",
    "dstorage.setprofile(profile={'proto':0x0000}) \n",
    "dstorage.lockprofile()\n",
    "\n",
    "print(vars(dstorage)) \n",
    "print(vars(dstorage.dsheader))\n",
    "print(vars(dstorage.dbh))\n",
    "print(vars(dstorage.dbh.chns[0]))\n",
    "print(vars(dstorage.dbh.chns[1]))"
   ]
  },
  {
   "cell_type": "code",
   "execution_count": 2,
   "id": "ab7fd1b0-42a0-4ca8-ae4c-98ea9845ae32",
   "metadata": {},
   "outputs": [
    {
     "name": "stdout",
     "output_type": "stream",
     "text": [
      "{'isAvailable': False, 'profile': {'ver': 1, 'loh': 128, 'pid': 47802, 'noc': 2, 'lof': 12, 'lodh': 64, 'proto': 0}, 'profilelocked': True, 'dsheader': <datastorage.DSHeader object at 0x0000016B47E213A0>, 'dbh': <datastorage.DBHeader object at 0x0000016B47E219A0>, 'db': [[bytearray(b'\\x03\\xf2\\x05\\x02\\xc2\\x0e\\xc2\\x0e\\xc3\\x0e\\xc5\\x0e'), bytearray(b'\\x11\\xf3\\x00\\x04\\x9e\\x02\\x9e\\x02\\x9e\\x02\\x9e\\x02'), bytearray(b'\\x14\\xf2\\x06\\x00\\xc3\\x0e\\xc4\\x0e\\xc4\\x0e\\xc7\\x0e'), bytearray(b'\\x03\\xf0\\x04\\xa0\\xc8\\x0eY\\xb0\\x0e/\\xba\\x0e'), bytearray(b'\\x07\\xf2\\x00\\x05\\xb1\\x0e\\xb3\\x0e\\xb5\\x0e\\xb6\\x0e')], [bytearray(b'\\x07\\xfb*\\xa0\\xa0\\xd0\\x07\\x00\\x00\\x00\\x00\\x00'), bytearray(b'\\x08\\xf2\\x00\\x03\\xbd\\x0e\\xbd\\x0e\\xc0\\x0e\\xbd\\x0e'), bytearray(b'\\x03\\xf1\\x02\\x00\\xd8\\x08\\xef}\\x00\\x00C\\x00'), bytearray(b'\\x06\\xf2\\x03\\x05\\xb1\\x0e\\xb3\\x0e\\xb2\\x0e\\xb2\\x0e'), bytearray(b'\\t\\xf2\\x03\\x01\\xbb\\x0e\\xbb\\x0e\\xbf\\x0e\\xbf\\x0e')]], 'mode': 1, 'filename': 'dst'}\n",
      "{'ldh': 64, 'noc': 2, 'cp': 0, 'pp': 0, 'np': 0, 'info': 0, 'chns': [<datastorage.CHInfo object at 0x0000016B482184F0>, <datastorage.CHInfo object at 0x0000016B48218580>]}\n",
      "{'sp': 64, 'nof': 5, 'du': 0, 'ts': 0}\n",
      "{'sp': 64, 'nof': 5, 'du': 0, 'ts': 0}\n"
     ]
    }
   ],
   "source": [
    "# instanciat raw data\n",
    "rd = RawData(filename=\"data\\\\icanbus\\\\00-01.txt\")\n",
    "\n",
    "# upload raw data to the storage \n",
    "dstorage.upload(rawdata=rd, size=10)\n",
    "\n",
    "print(vars(dstorage))\n",
    "print(vars(dstorage.dbh))\n",
    "print(vars(dstorage.dbh.chns[0]))\n",
    "print(vars(dstorage.dbh.chns[1]))"
   ]
  },
  {
   "cell_type": "code",
   "execution_count": 3,
   "id": "1cca629c-5eae-43bc-adf1-d96055c5ea0d",
   "metadata": {},
   "outputs": [
    {
     "name": "stdout",
     "output_type": "stream",
     "text": [
      "{'isAvailable': False, 'profile': {'ver': 1, 'loh': 128, 'pid': 47802, 'noc': 2, 'lof': 12, 'lodh': 64, 'proto': 0}, 'profilelocked': True, 'dsheader': <datastorage.DSHeader object at 0x0000016B47E213A0>, 'dbh': <datastorage.DBHeader object at 0x0000016B47E219A0>, 'db': [[bytearray(b'\\x03\\xf2\\x05\\x02\\xc2\\x0e\\xc2\\x0e\\xc3\\x0e\\xc5\\x0e'), bytearray(b'\\x11\\xf3\\x00\\x04\\x9e\\x02\\x9e\\x02\\x9e\\x02\\x9e\\x02'), bytearray(b'\\x14\\xf2\\x06\\x00\\xc3\\x0e\\xc4\\x0e\\xc4\\x0e\\xc7\\x0e'), bytearray(b'\\x03\\xf0\\x04\\xa0\\xc8\\x0eY\\xb0\\x0e/\\xba\\x0e'), bytearray(b'\\x07\\xf2\\x00\\x05\\xb1\\x0e\\xb3\\x0e\\xb5\\x0e\\xb6\\x0e'), bytearray(b'\\x04\\xf2\\x06\\x03\\xbd\\x0e\\xbe\\x0e\\xbe\\x0e\\xc0\\x0e'), bytearray(b'\\x03\\xfa\\x00\\x05\\xf3O\\x9c;\\x04\\x05\\x83\\n'), bytearray(b'\\x03\\xfa\\x00\\x00\\x14j\\x9c;\\x04\\x00\\x83\\n'), bytearray(b'\\x02\\xf2\\x05\\x00\\xbc\\x0e\\xbc\\x0e\\xbd\\x0e\\xbc\\x0e'), bytearray(b'\\x03\\xf1\\x00\\x03\\x00\\x00\\x06\\x00\\x00\\x00\\x00\\x00'), bytearray(b'\\x03\\xf2\\x04\\x02\\xb4\\x0e\\xb8\\x0e\\xb8\\x0e\\xb4\\x0e'), bytearray(b'\\x08\\xf0\\x0b\\xa0\\x81\\x03\\xb6\\x0e\\x00\\x00\\x00\\x00')], [bytearray(b'\\x07\\xfb*\\xa0\\xa0\\xd0\\x07\\x00\\x00\\x00\\x00\\x00'), bytearray(b'\\x08\\xf2\\x00\\x03\\xbd\\x0e\\xbd\\x0e\\xc0\\x0e\\xbd\\x0e'), bytearray(b'\\x03\\xf1\\x02\\x00\\xd8\\x08\\xef}\\x00\\x00C\\x00'), bytearray(b'\\x06\\xf2\\x03\\x05\\xb1\\x0e\\xb3\\x0e\\xb2\\x0e\\xb2\\x0e'), bytearray(b'\\t\\xf2\\x03\\x01\\xbb\\x0e\\xbb\\x0e\\xbf\\x0e\\xbf\\x0e'), bytearray(b'\\x11\\xf1\\x00\\x01\\x00\\x00\\x06\\x00\\x00\\x00\\x00\\x00'), bytearray(b'\\n\\xf2\\x07\\x03\\xbd\\x0e\\xbb\\x0e\\x00\\x00\\x00\\x00'), bytearray(b'\\x00\\xf2\\x05\\x02\\xbb\\x0e\\xbb\\x0e\\xbd\\x0e\\xba\\x0e')]], 'mode': 1, 'filename': 'dst'}\n",
      "{'ldh': 64, 'noc': 2, 'cp': 0, 'pp': 0, 'np': 0, 'info': 0, 'chns': [<datastorage.CHInfo object at 0x0000016B482184F0>, <datastorage.CHInfo object at 0x0000016B48218580>]}\n",
      "{'sp': 64, 'nof': 12, 'du': 0, 'ts': 0}\n",
      "{'sp': 64, 'nof': 8, 'du': 0, 'ts': 0}\n"
     ]
    }
   ],
   "source": [
    "# instanciat raw data\n",
    "rd = RawData(filename=\"data\\\\icanbus\\\\00-02.txt\")\n",
    "\n",
    "# upload raw data to the storage \n",
    "dstorage.upload(rawdata=rd, size=10)\n",
    "print(vars(dstorage))\n",
    "print(vars(dstorage.dbh))\n",
    "print(vars(dstorage.dbh.chns[0]))\n",
    "print(vars(dstorage.dbh.chns[1]))"
   ]
  },
  {
   "cell_type": "code",
   "execution_count": 4,
   "id": "c7e63750-e039-41e1-a40c-7cc1a8bd1a22",
   "metadata": {},
   "outputs": [
    {
     "name": "stdout",
     "output_type": "stream",
     "text": [
      "{'isAvailable': False, 'profile': {'ver': 1, 'loh': 128, 'pid': 47802, 'noc': 2, 'lof': 12, 'lodh': 64, 'proto': 0}, 'profilelocked': True, 'dsheader': <datastorage.DSHeader object at 0x0000016B47E213A0>, 'dbh': <datastorage.DBHeader object at 0x0000016B47E219A0>, 'db': [[bytearray(b'\\x03\\xf2\\x05\\x02\\xc2\\x0e\\xc2\\x0e\\xc3\\x0e\\xc5\\x0e'), bytearray(b'\\x11\\xf3\\x00\\x04\\x9e\\x02\\x9e\\x02\\x9e\\x02\\x9e\\x02'), bytearray(b'\\x14\\xf2\\x06\\x00\\xc3\\x0e\\xc4\\x0e\\xc4\\x0e\\xc7\\x0e'), bytearray(b'\\x03\\xf0\\x04\\xa0\\xc8\\x0eY\\xb0\\x0e/\\xba\\x0e'), bytearray(b'\\x07\\xf2\\x00\\x05\\xb1\\x0e\\xb3\\x0e\\xb5\\x0e\\xb6\\x0e'), bytearray(b'\\x04\\xf2\\x06\\x03\\xbd\\x0e\\xbe\\x0e\\xbe\\x0e\\xc0\\x0e'), bytearray(b'\\x03\\xfa\\x00\\x05\\xf3O\\x9c;\\x04\\x05\\x83\\n'), bytearray(b'\\x03\\xfa\\x00\\x00\\x14j\\x9c;\\x04\\x00\\x83\\n'), bytearray(b'\\x02\\xf2\\x05\\x00\\xbc\\x0e\\xbc\\x0e\\xbd\\x0e\\xbc\\x0e'), bytearray(b'\\x03\\xf1\\x00\\x03\\x00\\x00\\x06\\x00\\x00\\x00\\x00\\x00'), bytearray(b'\\x03\\xf2\\x04\\x02\\xb4\\x0e\\xb8\\x0e\\xb8\\x0e\\xb4\\x0e'), bytearray(b'\\x08\\xf0\\x0b\\xa0\\x81\\x03\\xb6\\x0e\\x00\\x00\\x00\\x00'), bytearray(b'\\x13\\xf0\\x00\\xa0\\x04\\x00\\x00\\x00\\x03\\x04\\x83\\x1c'), bytearray(b'\\x14\\xf1\\x02\\x05\\xd5\\x08\\xf4|\\x00\\x00C\\x00'), bytearray(b'\\x02\\xf2\\x04\\x00\\xb4\\x0e\\xb6\\x0e\\xb6\\x0e\\xb6\\x0e'), bytearray(b'\\x01\\xfa\\x00\\x03Aj\\x9c;\\x04\\x03\\x83\\n'), bytearray(b'\\x02\\xfa\\x00\\x02Fj\\x9c;\\x04\\x02\\x83\\n'), bytearray(b'\\x03\\xf2\\x03\\x02\\xb5\\x0e\\xb8\\x0e\\xb6\\x0e\\xb7\\x0e')], [bytearray(b'\\x07\\xfb*\\xa0\\xa0\\xd0\\x07\\x00\\x00\\x00\\x00\\x00'), bytearray(b'\\x08\\xf2\\x00\\x03\\xbd\\x0e\\xbd\\x0e\\xc0\\x0e\\xbd\\x0e'), bytearray(b'\\x03\\xf1\\x02\\x00\\xd8\\x08\\xef}\\x00\\x00C\\x00'), bytearray(b'\\x06\\xf2\\x03\\x05\\xb1\\x0e\\xb3\\x0e\\xb2\\x0e\\xb2\\x0e'), bytearray(b'\\t\\xf2\\x03\\x01\\xbb\\x0e\\xbb\\x0e\\xbf\\x0e\\xbf\\x0e'), bytearray(b'\\x11\\xf1\\x00\\x01\\x00\\x00\\x06\\x00\\x00\\x00\\x00\\x00'), bytearray(b'\\n\\xf2\\x07\\x03\\xbd\\x0e\\xbb\\x0e\\x00\\x00\\x00\\x00'), bytearray(b'\\x00\\xf2\\x05\\x02\\xbb\\x0e\\xbb\\x0e\\xbd\\x0e\\xba\\x0e'), bytearray(b'\\x06\\xf2\\x05\\x00\\xbc\\x0e\\xbb\\x0e\\xbd\\x0e\\xbe\\x0e'), bytearray(b'\\x0b\\xf1\\x00\\x05\\x00\\x00\\x06\\x00\\x00\\x00\\x00\\x00'), bytearray(b'\\x0c\\xf2\\x03\\x04\\xb4\\x0e\\xb6\\x0e\\xb5\\x0e\\xb8\\x0e'), bytearray(b'\\x01\\xf2\\x06\\x03\\xc1\\x0e\\xbf\\x0e\\xbe\\x0e\\xc0\\x0e')]], 'mode': 1, 'filename': 'dst'}\n",
      "{'ldh': 64, 'noc': 2, 'cp': 0, 'pp': 0, 'np': 0, 'info': 0, 'chns': [<datastorage.CHInfo object at 0x0000016B482184F0>, <datastorage.CHInfo object at 0x0000016B48218580>]}\n",
      "{'sp': 64, 'nof': 18, 'du': 0, 'ts': 0}\n",
      "{'sp': 64, 'nof': 12, 'du': 0, 'ts': 0}\n"
     ]
    }
   ],
   "source": [
    "# instanciat raw data\n",
    "rd = RawData(filename=\"data\\\\icanbus\\\\00-03.txt\")\n",
    "\n",
    "# upload raw data to the storage \n",
    "dstorage.upload(rawdata=rd, size=10)\n",
    "print(vars(dstorage))\n",
    "print(vars(dstorage.dbh))\n",
    "print(vars(dstorage.dbh.chns[0]))\n",
    "print(vars(dstorage.dbh.chns[1]))"
   ]
  },
  {
   "cell_type": "code",
   "execution_count": 5,
   "id": "92f42536-aee8-4f44-9461-156398004c67",
   "metadata": {},
   "outputs": [
    {
     "name": "stdout",
     "output_type": "stream",
     "text": [
      "{'isAvailable': False, 'profile': {'ver': 1, 'loh': 128, 'pid': 47802, 'noc': 2, 'lof': 12, 'lodh': 64, 'proto': 0}, 'profilelocked': True, 'dsheader': <datastorage.DSHeader object at 0x0000016B47E213A0>, 'dbh': <datastorage.DBHeader object at 0x0000016B47E219A0>, 'db': [[bytearray(b'\\x03\\xf2\\x05\\x02\\xc2\\x0e\\xc2\\x0e\\xc3\\x0e\\xc5\\x0e'), bytearray(b'\\x11\\xf3\\x00\\x04\\x9e\\x02\\x9e\\x02\\x9e\\x02\\x9e\\x02'), bytearray(b'\\x14\\xf2\\x06\\x00\\xc3\\x0e\\xc4\\x0e\\xc4\\x0e\\xc7\\x0e'), bytearray(b'\\x03\\xf0\\x04\\xa0\\xc8\\x0eY\\xb0\\x0e/\\xba\\x0e'), bytearray(b'\\x07\\xf2\\x00\\x05\\xb1\\x0e\\xb3\\x0e\\xb5\\x0e\\xb6\\x0e'), bytearray(b'\\x04\\xf2\\x06\\x03\\xbd\\x0e\\xbe\\x0e\\xbe\\x0e\\xc0\\x0e'), bytearray(b'\\x03\\xfa\\x00\\x05\\xf3O\\x9c;\\x04\\x05\\x83\\n'), bytearray(b'\\x03\\xfa\\x00\\x00\\x14j\\x9c;\\x04\\x00\\x83\\n'), bytearray(b'\\x02\\xf2\\x05\\x00\\xbc\\x0e\\xbc\\x0e\\xbd\\x0e\\xbc\\x0e'), bytearray(b'\\x03\\xf1\\x00\\x03\\x00\\x00\\x06\\x00\\x00\\x00\\x00\\x00'), bytearray(b'\\x03\\xf2\\x04\\x02\\xb4\\x0e\\xb8\\x0e\\xb8\\x0e\\xb4\\x0e'), bytearray(b'\\x08\\xf0\\x0b\\xa0\\x81\\x03\\xb6\\x0e\\x00\\x00\\x00\\x00'), bytearray(b'\\x13\\xf0\\x00\\xa0\\x04\\x00\\x00\\x00\\x03\\x04\\x83\\x1c'), bytearray(b'\\x14\\xf1\\x02\\x05\\xd5\\x08\\xf4|\\x00\\x00C\\x00'), bytearray(b'\\x02\\xf2\\x04\\x00\\xb4\\x0e\\xb6\\x0e\\xb6\\x0e\\xb6\\x0e'), bytearray(b'\\x01\\xfa\\x00\\x03Aj\\x9c;\\x04\\x03\\x83\\n'), bytearray(b'\\x02\\xfa\\x00\\x02Fj\\x9c;\\x04\\x02\\x83\\n'), bytearray(b'\\x03\\xf2\\x03\\x02\\xb5\\x0e\\xb8\\x0e\\xb6\\x0e\\xb7\\x0e'), bytearray(b'\\x02\\xf1\\x00\\x02\\x00\\x00\\x06\\x00\\x00\\x00\\x00\\x00'), bytearray(b'\\x03\\xf0\\x06\\xa0\\xe1\\x00\\x01\\xe1\\x00\\x01\\xe1\\x00'), bytearray(b'\\x0b\\xf1\\x02\\x01\\xd5\\x08\\xf4|\\x00\\x00C\\x00'), bytearray(b'\\x03\\xf2\\x01\\x04\\xb4\\x0e\\xb4\\x0e\\xb4\\x0e\\xb6\\x0e'), bytearray(b'\\x08\\xf2\\x04\\x03\\xb4\\x0e\\xb3\\x0e\\xb6\\x0e\\xb1\\x0e')], [bytearray(b'\\x07\\xfb*\\xa0\\xa0\\xd0\\x07\\x00\\x00\\x00\\x00\\x00'), bytearray(b'\\x08\\xf2\\x00\\x03\\xbd\\x0e\\xbd\\x0e\\xc0\\x0e\\xbd\\x0e'), bytearray(b'\\x03\\xf1\\x02\\x00\\xd8\\x08\\xef}\\x00\\x00C\\x00'), bytearray(b'\\x06\\xf2\\x03\\x05\\xb1\\x0e\\xb3\\x0e\\xb2\\x0e\\xb2\\x0e'), bytearray(b'\\t\\xf2\\x03\\x01\\xbb\\x0e\\xbb\\x0e\\xbf\\x0e\\xbf\\x0e'), bytearray(b'\\x11\\xf1\\x00\\x01\\x00\\x00\\x06\\x00\\x00\\x00\\x00\\x00'), bytearray(b'\\n\\xf2\\x07\\x03\\xbd\\x0e\\xbb\\x0e\\x00\\x00\\x00\\x00'), bytearray(b'\\x00\\xf2\\x05\\x02\\xbb\\x0e\\xbb\\x0e\\xbd\\x0e\\xba\\x0e'), bytearray(b'\\x06\\xf2\\x05\\x00\\xbc\\x0e\\xbb\\x0e\\xbd\\x0e\\xbe\\x0e'), bytearray(b'\\x0b\\xf1\\x00\\x05\\x00\\x00\\x06\\x00\\x00\\x00\\x00\\x00'), bytearray(b'\\x0c\\xf2\\x03\\x04\\xb4\\x0e\\xb6\\x0e\\xb5\\x0e\\xb8\\x0e'), bytearray(b'\\x01\\xf2\\x06\\x03\\xc1\\x0e\\xbf\\x0e\\xbe\\x0e\\xc0\\x0e'), bytearray(b'\\x0c\\xf1\\x02\\x03\\xd5\\x08\\xf4|\\x00\\x00C\\x00'), bytearray(b'\\x03\\xf3\\x00\\x02\\x9e\\x02\\x9e\\x02\\x9e\\x02\\x9e\\x02'), bytearray(b'\\t\\xf2\\x07\\x01\\xbe\\x0e\\xba\\x0e\\x00\\x00\\x00\\x00'), bytearray(b'\\t\\xf1\\x04\\x05\\x9e\\x02\\x01\\x9e\\x02\\x01\\x9e\\x02'), bytearray(b'\\x08\\xf0\\x04\\xa0\\xc5\\x0e\\x8e\\xb0\\x0eJ\\xb9\\x0e')]], 'mode': 1, 'filename': 'dst'}\n",
      "{'ldh': 64, 'noc': 2, 'cp': 0, 'pp': 0, 'np': 0, 'info': 0, 'chns': [<datastorage.CHInfo object at 0x0000016B482184F0>, <datastorage.CHInfo object at 0x0000016B48218580>]}\n",
      "{'sp': 64, 'nof': 23, 'du': 0, 'ts': 0}\n",
      "{'sp': 64, 'nof': 17, 'du': 0, 'ts': 0}\n"
     ]
    }
   ],
   "source": [
    "# instanciat raw data\n",
    "rd = RawData(filename=\"data\\\\icanbus\\\\00-04.txt\")\n",
    "\n",
    "# upload raw data to the storage \n",
    "dstorage.upload(rawdata=rd, size=10)\n",
    "print(vars(dstorage))\n",
    "print(vars(dstorage.dbh))\n",
    "print(vars(dstorage.dbh.chns[0]))\n",
    "print(vars(dstorage.dbh.chns[1]))"
   ]
  },
  {
   "cell_type": "code",
   "execution_count": 6,
   "id": "91d25f12-6961-4328-8228-e335b6d99080",
   "metadata": {},
   "outputs": [
    {
     "name": "stdout",
     "output_type": "stream",
     "text": [
      "bytearray(b'\\x00\\x00\\x00\\x00\\x00\\x00\\x00\\x80\\x00\\x00\\x00\\x00\\x00\\x00\\x00\\x00\\x00\\x00\\x00\\x00\\x00\\x00\\x00\\x00\\x00\\x00\\x00\\x00\\x00\\x00\\x00\\x00\\x00\\x00\\x00\\xc0\\x00\\x00\\x00\\x17\\x00\\x00\\x00\\x00\\x00\\x00\\x00\\x00\\x00\\x00\\x01\\xd4\\x00\\x00\\x00\\x11\\x00\\x00\\x00\\x00\\x00\\x00\\x00\\x00')\n"
     ]
    }
   ],
   "source": [
    "dstorage.flush()"
   ]
  },
  {
   "cell_type": "code",
   "execution_count": null,
   "id": "9479824a-c7b2-428a-b7f9-5dd181e97878",
   "metadata": {},
   "outputs": [],
   "source": [
    "vars(dstorage.dbh.chns[0])"
   ]
  },
  {
   "cell_type": "code",
   "execution_count": null,
   "id": "2c91fcb3-fb80-44be-9c14-40d580af42da",
   "metadata": {},
   "outputs": [],
   "source": [
    "vars(dstorage.dbh.chns[1])"
   ]
  },
  {
   "cell_type": "code",
   "execution_count": null,
   "id": "a57eb49e-8c77-4337-9fb3-276e4ed63563",
   "metadata": {},
   "outputs": [],
   "source": [
    "dstorage.db"
   ]
  },
  {
   "cell_type": "code",
   "execution_count": null,
   "id": "3bfc0404-0c65-49c7-a477-51d9a3e557f9",
   "metadata": {},
   "outputs": [],
   "source": []
  }
 ],
 "metadata": {
  "kernelspec": {
   "display_name": "Python 3 (ipykernel)",
   "language": "python",
   "name": "python3"
  },
  "language_info": {
   "codemirror_mode": {
    "name": "ipython",
    "version": 3
   },
   "file_extension": ".py",
   "mimetype": "text/x-python",
   "name": "python",
   "nbconvert_exporter": "python",
   "pygments_lexer": "ipython3",
   "version": "3.9.13"
  }
 },
 "nbformat": 4,
 "nbformat_minor": 5
}
